{
 "cells": [
  {
   "cell_type": "markdown",
   "metadata": {},
   "source": [
    "Создадим стриминговую модель (и заодно сохраним её в формате jit)."
   ]
  },
  {
   "cell_type": "code",
   "execution_count": null,
   "metadata": {},
   "outputs": [],
   "source": [
    "from src.configs import DistillTaskConfig, StreamingTaskConfig\n",
    "from src.model import CRNN, StreamingCRNN\n",
    "\n",
    "from tqdm.notebook import tqdm\n",
    "\n",
    "import torch\n",
    "import wandb\n",
    "import torchaudio\n",
    "\n",
    "distill_config = DistillTaskConfig(\n",
    "    hidden_size=16,\n",
    "    bottleneck_size=8,\n",
    "    cnn_out_channels=4,\n",
    "    distill_w=0.,\n",
    "    attn_distill_w=0.,\n",
    "    melspec_win_length=400,\n",
    "    melspec_hop_length=160,\n",
    "    num_epochs=100,\n",
    "    use_scheduler=True,\n",
    "    temperature=10\n",
    ")\n",
    "\n",
    "model = CRNN(distill_config)\n",
    "_ = wandb.restore('triple-100-epochs-tiny-colab.pt', run_path=\"broccoliman/kws/1fhnqrzr\")\n",
    "model.load_state_dict(torch.load('triple-100-epochs-tiny-colab.pt'))\n",
    "\n",
    "model = torch.quantization.quantize_dynamic(model, dtype=torch.float16)\n",
    "\n",
    "conf = StreamingTaskConfig()\n",
    "\n",
    "st_model = StreamingCRNN(\n",
    "    model, \n",
    "    max_window_length=conf.max_window_length,\n",
    "    streaming_step_size=conf.streaming_step_size,\n",
    "    share_hidden_states=conf.share_hidden_states,\n",
    "    device=conf.device\n",
    ")\n",
    "\n",
    "torch.jit.save(torch.jit.script(st_model), 'kws.pt')"
   ]
  },
  {
   "cell_type": "markdown",
   "metadata": {},
   "source": [
    "Сделаем вавку с ключевым словом посередине."
   ]
  },
  {
   "cell_type": "code",
   "execution_count": null,
   "metadata": {},
   "outputs": [],
   "source": [
    "noise_path_1 = 'speech_commands/_background_noise_/exercise_bike.wav'\n",
    "noise_path_2 = 'speech_commands/_background_noise_/running_tap.wav'\n",
    "command_path = \"speech_commands/sheila/dc269564_nohash_1.wav\"\n",
    "\n",
    "noise_1 = torchaudio.load(noise_path_1)[0].squeeze()\n",
    "noise_2 = torchaudio.load(noise_path_2)[0].squeeze()\n",
    "command = torchaudio.load(command_path)[0].squeeze()\n",
    "\n",
    "concat_wav = torch.cat([noise_1[-160000:], command, noise_2[160000:320000]])"
   ]
  },
  {
   "cell_type": "markdown",
   "metadata": {},
   "source": [
    "Нарисуем предсказания."
   ]
  },
  {
   "cell_type": "code",
   "execution_count": null,
   "metadata": {},
   "outputs": [],
   "source": [
    "import seaborn as sns\n",
    "\n",
    "predictions = []\n",
    "\n",
    "for frame in tqdm(concat_wav):\n",
    "    predictions.append(st_model(torch.tensor([frame]))[1].item())\n",
    "\n",
    "sns.lineplot(range(len(predictions)), predictions)"
   ]
  }
 ],
 "metadata": {
  "kernelspec": {
   "display_name": "Python 3.8.10 64-bit",
   "language": "python",
   "name": "python3"
  },
  "language_info": {
   "codemirror_mode": {
    "name": "ipython",
    "version": 3
   },
   "file_extension": ".py",
   "mimetype": "text/x-python",
   "name": "python",
   "nbconvert_exporter": "python",
   "pygments_lexer": "ipython3",
   "version": "3.8.10"
  },
  "orig_nbformat": 4,
  "vscode": {
   "interpreter": {
    "hash": "31f2aee4e71d21fbe5cf8b01ff0e069b9275f58929596ceb00d14d90e3e16cd6"
   }
  }
 },
 "nbformat": 4,
 "nbformat_minor": 2
}
