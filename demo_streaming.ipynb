{
 "cells": [
  {
   "cell_type": "code",
   "execution_count": null,
   "metadata": {},
   "outputs": [],
   "source": [
    "import torchaudio\n",
    "import torch\n",
    "import seaborn as sns\n",
    "import numpy as np\n",
    "import matplotlib.pyplot as plt\n",
    "\n",
    "from IPython.display import Audio, display\n",
    "from tqdm import tqdm\n",
    "\n",
    "from src.configs import StreamingTaskConfig\n",
    "\n",
    "\n",
    "noise_path_1 = 'speech_commands/_background_noise_/exercise_bike.wav'\n",
    "noise_path_2 = 'speech_commands/_background_noise_/running_tap.wav'\n",
    "command_path = \"speech_commands/sheila/dc269564_nohash_1.wav\"\n",
    "model_path = \"models/baseline_streaming_share_hs.pt\"\n",
    "sample_rate = 16000\n",
    "\n",
    "noise_1 = torchaudio.load(noise_path_1)[0].squeeze()\n",
    "noise_2 = torchaudio.load(noise_path_2)[0].squeeze()\n",
    "command = torchaudio.load(command_path)[0].squeeze()\n",
    "\n",
    "model = torch.jit.load(model_path)\n",
    "concat_wav = torch.cat([noise_1[-160000:], command, noise_2[160000:320000]])\n",
    "display(Audio(concat_wav, rate=16000))\n",
    "\n",
    "predictions = []\n",
    "\n",
    "for frame in tqdm(concat_wav):\n",
    "    predictions.append(model(frame)[1].item())\n",
    "\n",
    "sns.lineplot(np.arange(len(predictions)) / sample_rate, predictions)\n",
    "plt.xlabel(\"Time (s)\")\n",
    "plt.ylabel(\"Probability of command\")\n",
    "plt.title(\"Probability of commmand 'Sheila' over time\")"
   ]
  },
  {
   "cell_type": "code",
   "execution_count": null,
   "metadata": {},
   "outputs": [],
   "source": [
    "model_path_2 = \"models/baseline_streaming_not_share_hs.pt\"\n",
    "model_2 = torch.jit.load(model_path)\n",
    "\n",
    "predictions = []\n",
    "\n",
    "for frame in tqdm(concat_wav):\n",
    "    predictions.append(model(frame)[1].item())\n",
    "\n",
    "sns.lineplot(np.arange(len(predictions)) / sample_rate, predictions)\n",
    "plt.xlabel(\"Time (s)\")\n",
    "plt.ylabel(\"Probability of command\")\n",
    "plt.title(\"Probability of commmand 'Sheila' over time (no sharing of hidden states\")"
   ]
  }
 ],
 "metadata": {
  "language_info": {
   "name": "python"
  },
  "orig_nbformat": 4
 },
 "nbformat": 4,
 "nbformat_minor": 2
}
