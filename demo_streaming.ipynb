{
  "cells": [
    {
      "cell_type": "markdown",
      "metadata": {
        "id": "uKVy-8ckYVCs"
      },
      "source": [
        "Создадим стриминговую сжатую модель (и заодно сохраним её в формате jit)."
      ]
    },
    {
      "cell_type": "code",
      "execution_count": 3,
      "metadata": {
        "colab": {
          "base_uri": "https://localhost:8080/"
        },
        "id": "88wbkqDEYVCw",
        "outputId": "3ed0322a-8980-4501-cd39-acab0329a619"
      },
      "outputs": [
        {
          "name": "stderr",
          "output_type": "stream",
          "text": [
            "/usr/local/lib/python3.7/dist-packages/torch/jit/annotations.py:296: UserWarning: TorchScript will treat type annotations of Tensor dtype-specific subtypes as if they are normal Tensors. dtype constraints are not enforced in compilation either.\n",
            "  warnings.warn(\"TorchScript will treat type annotations of Tensor \"\n"
          ]
        }
      ],
      "source": [
        "from src.configs import DistillTaskConfig, StreamingTaskConfig\n",
        "from src.model import CRNN, StreamingCRNN\n",
        "\n",
        "from tqdm.notebook import tqdm\n",
        "\n",
        "import torch\n",
        "import wandb\n",
        "import torchaudio\n",
        "\n",
        "distill_config = DistillTaskConfig(\n",
        "    hidden_size=16,\n",
        "    bottleneck_size=8,\n",
        "    cnn_out_channels=4,\n",
        "    distill_w=0.,\n",
        "    attn_distill_w=0.,\n",
        "    melspec_win_length=400,\n",
        "    melspec_hop_length=160,\n",
        "    num_epochs=100,\n",
        "    use_scheduler=True,\n",
        "    temperature=10\n",
        ")\n",
        "\n",
        "model = CRNN(distill_config)\n",
        "_ = wandb.restore('triple-100-epochs-tiny-colab.pt', run_path=\"broccoliman/kws/1fhnqrzr\")\n",
        "model.load_state_dict(torch.load('triple-100-epochs-tiny-colab.pt', map_location=torch.device('cpu')))\n",
        "\n",
        "model = torch.quantization.quantize_dynamic(model, dtype=torch.float16)\n",
        "\n",
        "conf = StreamingTaskConfig()\n",
        "\n",
        "st_model = StreamingCRNN(\n",
        "    model, \n",
        "    max_window_length=conf.max_window_length,\n",
        "    streaming_step_size=conf.streaming_step_size,\n",
        "    share_hidden_states=conf.share_hidden_states,\n",
        "    device=conf.device\n",
        ")\n",
        "\n",
        "torch.jit.save(torch.jit.script(st_model), 'kws.pt')"
      ]
    },
    {
      "cell_type": "markdown",
      "metadata": {
        "id": "fFFxXdRRYVCz"
      },
      "source": [
        "Сделаем вавку с ключевым словом посередине."
      ]
    },
    {
      "cell_type": "code",
      "execution_count": 4,
      "metadata": {
        "id": "_bTkN2PQYVC0"
      },
      "outputs": [],
      "source": [
        "noise_path_1 = 'speech_commands/_background_noise_/exercise_bike.wav'\n",
        "noise_path_2 = 'speech_commands/_background_noise_/running_tap.wav'\n",
        "command_path = \"speech_commands/sheila/dc269564_nohash_1.wav\"\n",
        "\n",
        "noise_1 = torchaudio.load(noise_path_1)[0].squeeze()\n",
        "noise_2 = torchaudio.load(noise_path_2)[0].squeeze()\n",
        "command = torchaudio.load(command_path)[0].squeeze()\n",
        "\n",
        "concat_wav = torch.cat([noise_1[-160000:], command, noise_2[160000:320000]])"
      ]
    },
    {
      "cell_type": "markdown",
      "metadata": {
        "id": "rj-iLbsgYVC1"
      },
      "source": [
        "Нарисуем предсказания."
      ]
    },
    {
      "cell_type": "code",
      "execution_count": 5,
      "metadata": {
        "colab": {
          "base_uri": "https://localhost:8080/",
          "height": 404,
          "referenced_widgets": [
            "ffb0f87226fa43a78e2120b0df0a05aa",
            "59b6ac1b051448108038a05a6c3d45dc",
            "d257c2c2342e4529bfad4b18dade36e6",
            "c9baca84b47a4595935113a389c42310",
            "c08e2fb9770641a6b5f658dd2f3969fa",
            "8df76255bd6c442fab818a06a14fbc88",
            "2ba3887d8450490c8bb37dc87d07ab07",
            "810a8354dbde4d4da936d2af87179a85",
            "3b30033a9b02464dbaf47025fe3b238d",
            "f623f0e0d81045f2bc5cb1b45f9971b1",
            "4f5e593ff67b4ba6ae3667ff369308d1"
          ]
        },
        "id": "j-m4dyGZYVC1",
        "outputId": "7e508f04-f82e-4751-ef94-4e76374d4ad5"
      },
      "outputs": [
        {
          "data": {
            "application/vnd.jupyter.widget-view+json": {
              "model_id": "ffb0f87226fa43a78e2120b0df0a05aa",
              "version_major": 2,
              "version_minor": 0
            },
            "text/plain": [
              "  0%|          | 0/334861 [00:00<?, ?it/s]"
            ]
          },
          "metadata": {},
          "output_type": "display_data"
        },
        {
          "name": "stderr",
          "output_type": "stream",
          "text": [
            "/content/KWS/src/model.py:93: UserWarning: To copy construct from a tensor, it is recommended to use sourceTensor.clone().detach() or sourceTensor.clone().detach().requires_grad_(True), rather than torch.tensor(sourceTensor).\n",
            "  batch = torch.tensor(self.frames).unsqueeze(dim=0).to(self.device)\n",
            "/usr/local/lib/python3.7/dist-packages/seaborn/_decorators.py:43: FutureWarning: Pass the following variables as keyword args: x, y. From version 0.12, the only valid positional argument will be `data`, and passing other arguments without an explicit keyword will result in an error or misinterpretation.\n",
            "  FutureWarning\n"
          ]
        },
        {
          "data": {
            "text/plain": [
              "<matplotlib.axes._subplots.AxesSubplot at 0x7fdbf619d0d0>"
            ]
          },
          "execution_count": 5,
          "metadata": {},
          "output_type": "execute_result"
        },
        {
          "data": {
            "image/png": "[encoded data removed]",
            "text/plain": [
              "<Figure size 432x288 with 1 Axes>"
            ]
          },
          "metadata": {
            "needs_background": "light"
          },
          "output_type": "display_data"
        }
      ],
      "source": [
        "import seaborn as sns\n",
        "\n",
        "predictions = []\n",
        "\n",
        "for frame in tqdm(concat_wav):\n",
        "    predictions.append(st_model(torch.tensor([frame]))[1].item())\n",
        "\n",
        "sns.lineplot(range(len(predictions)), predictions)"
      ]
    }
  ],
  "metadata": {
    "colab": {
      "collapsed_sections": [],
      "provenance": []
    },
    "kernelspec": {
      "display_name": "Python 3.8.10 64-bit",
      "language": "python",
      "name": "python3"
    },
    "language_info": {
      "codemirror_mode": {
        "name": "ipython",
        "version": 3
      },
      "file_extension": ".py",
      "mimetype": "text/x-python",
      "name": "python",
      "nbconvert_exporter": "python",
      "pygments_lexer": "ipython3",
      "version": "3.8.10"
    },
    "orig_nbformat": 4,
    "vscode": {
      "interpreter": {
        "hash": "31f2aee4e71d21fbe5cf8b01ff0e069b9275f58929596ceb00d14d90e3e16cd6"
      }
    },
    "widgets": {
      "application/vnd.jupyter.widget-state+json": {
        "2ba3887d8450490c8bb37dc87d07ab07": {
          "model_module": "@jupyter-widgets/controls",
          "model_module_version": "1.5.0",
          "model_name": "DescriptionStyleModel",
          "state": {
            "_model_module": "@jupyter-widgets/controls",
            "_model_module_version": "1.5.0",
            "_model_name": "DescriptionStyleModel",
            "_view_count": null,
            "_view_module": "@jupyter-widgets/base",
            "_view_module_version": "1.2.0",
            "_view_name": "StyleView",
            "description_width": ""
          }
        },
        "3b30033a9b02464dbaf47025fe3b238d": {
          "model_module": "@jupyter-widgets/controls",
          "model_module_version": "1.5.0",
          "model_name": "ProgressStyleModel",
          "state": {
            "_model_module": "@jupyter-widgets/controls",
            "_model_module_version": "1.5.0",
            "_model_name": "ProgressStyleModel",
            "_view_count": null,
            "_view_module": "@jupyter-widgets/base",
            "_view_module_version": "1.2.0",
            "_view_name": "StyleView",
            "bar_color": null,
            "description_width": ""
          }
        },
        "4f5e593ff67b4ba6ae3667ff369308d1": {
          "model_module": "@jupyter-widgets/controls",
          "model_module_version": "1.5.0",
          "model_name": "DescriptionStyleModel",
          "state": {
            "_model_module": "@jupyter-widgets/controls",
            "_model_module_version": "1.5.0",
            "_model_name": "DescriptionStyleModel",
            "_view_count": null,
            "_view_module": "@jupyter-widgets/base",
            "_view_module_version": "1.2.0",
            "_view_name": "StyleView",
            "description_width": ""
          }
        },
        "59b6ac1b051448108038a05a6c3d45dc": {
          "model_module": "@jupyter-widgets/controls",
          "model_module_version": "1.5.0",
          "model_name": "HTMLModel",
          "state": {
            "_dom_classes": [],
            "_model_module": "@jupyter-widgets/controls",
            "_model_module_version": "1.5.0",
            "_model_name": "HTMLModel",
            "_view_count": null,
            "_view_module": "@jupyter-widgets/controls",
            "_view_module_version": "1.5.0",
            "_view_name": "HTMLView",
            "description": "",
            "description_tooltip": null,
            "layout": "IPY_MODEL_8df76255bd6c442fab818a06a14fbc88",
            "placeholder": "​",
            "style": "IPY_MODEL_2ba3887d8450490c8bb37dc87d07ab07",
            "value": "100%"
          }
        },
        "810a8354dbde4d4da936d2af87179a85": {
          "model_module": "@jupyter-widgets/base",
          "model_module_version": "1.2.0",
          "model_name": "LayoutModel",
          "state": {
            "_model_module": "@jupyter-widgets/base",
            "_model_module_version": "1.2.0",
            "_model_name": "LayoutModel",
            "_view_count": null,
            "_view_module": "@jupyter-widgets/base",
            "_view_module_version": "1.2.0",
            "_view_name": "LayoutView",
            "align_content": null,
            "align_items": null,
            "align_self": null,
            "border": null,
            "bottom": null,
            "display": null,
            "flex": null,
            "flex_flow": null,
            "grid_area": null,
            "grid_auto_columns": null,
            "grid_auto_flow": null,
            "grid_auto_rows": null,
            "grid_column": null,
            "grid_gap": null,
            "grid_row": null,
            "grid_template_areas": null,
            "grid_template_columns": null,
            "grid_template_rows": null,
            "height": null,
            "justify_content": null,
            "justify_items": null,
            "left": null,
            "margin": null,
            "max_height": null,
            "max_width": null,
            "min_height": null,
            "min_width": null,
            "object_fit": null,
            "object_position": null,
            "order": null,
            "overflow": null,
            "overflow_x": null,
            "overflow_y": null,
            "padding": null,
            "right": null,
            "top": null,
            "visibility": null,
            "width": null
          }
        },
        "8df76255bd6c442fab818a06a14fbc88": {
          "model_module": "@jupyter-widgets/base",
          "model_module_version": "1.2.0",
          "model_name": "LayoutModel",
          "state": {
            "_model_module": "@jupyter-widgets/base",
            "_model_module_version": "1.2.0",
            "_model_name": "LayoutModel",
            "_view_count": null,
            "_view_module": "@jupyter-widgets/base",
            "_view_module_version": "1.2.0",
            "_view_name": "LayoutView",
            "align_content": null,
            "align_items": null,
            "align_self": null,
            "border": null,
            "bottom": null,
            "display": null,
            "flex": null,
            "flex_flow": null,
            "grid_area": null,
            "grid_auto_columns": null,
            "grid_auto_flow": null,
            "grid_auto_rows": null,
            "grid_column": null,
            "grid_gap": null,
            "grid_row": null,
            "grid_template_areas": null,
            "grid_template_columns": null,
            "grid_template_rows": null,
            "height": null,
            "justify_content": null,
            "justify_items": null,
            "left": null,
            "margin": null,
            "max_height": null,
            "max_width": null,
            "min_height": null,
            "min_width": null,
            "object_fit": null,
            "object_position": null,
            "order": null,
            "overflow": null,
            "overflow_x": null,
            "overflow_y": null,
            "padding": null,
            "right": null,
            "top": null,
            "visibility": null,
            "width": null
          }
        },
        "c08e2fb9770641a6b5f658dd2f3969fa": {
          "model_module": "@jupyter-widgets/base",
          "model_module_version": "1.2.0",
          "model_name": "LayoutModel",
          "state": {
            "_model_module": "@jupyter-widgets/base",
            "_model_module_version": "1.2.0",
            "_model_name": "LayoutModel",
            "_view_count": null,
            "_view_module": "@jupyter-widgets/base",
            "_view_module_version": "1.2.0",
            "_view_name": "LayoutView",
            "align_content": null,
            "align_items": null,
            "align_self": null,
            "border": null,
            "bottom": null,
            "display": null,
            "flex": null,
            "flex_flow": null,
            "grid_area": null,
            "grid_auto_columns": null,
            "grid_auto_flow": null,
            "grid_auto_rows": null,
            "grid_column": null,
            "grid_gap": null,
            "grid_row": null,
            "grid_template_areas": null,
            "grid_template_columns": null,
            "grid_template_rows": null,
            "height": null,
            "justify_content": null,
            "justify_items": null,
            "left": null,
            "margin": null,
            "max_height": null,
            "max_width": null,
            "min_height": null,
            "min_width": null,
            "object_fit": null,
            "object_position": null,
            "order": null,
            "overflow": null,
            "overflow_x": null,
            "overflow_y": null,
            "padding": null,
            "right": null,
            "top": null,
            "visibility": null,
            "width": null
          }
        },
        "c9baca84b47a4595935113a389c42310": {
          "model_module": "@jupyter-widgets/controls",
          "model_module_version": "1.5.0",
          "model_name": "HTMLModel",
          "state": {
            "_dom_classes": [],
            "_model_module": "@jupyter-widgets/controls",
            "_model_module_version": "1.5.0",
            "_model_name": "HTMLModel",
            "_view_count": null,
            "_view_module": "@jupyter-widgets/controls",
            "_view_module_version": "1.5.0",
            "_view_name": "HTMLView",
            "description": "",
            "description_tooltip": null,
            "layout": "IPY_MODEL_f623f0e0d81045f2bc5cb1b45f9971b1",
            "placeholder": "​",
            "style": "IPY_MODEL_4f5e593ff67b4ba6ae3667ff369308d1",
            "value": " 334861/334861 [00:13&lt;00:00, 29811.28it/s]"
          }
        },
        "d257c2c2342e4529bfad4b18dade36e6": {
          "model_module": "@jupyter-widgets/controls",
          "model_module_version": "1.5.0",
          "model_name": "FloatProgressModel",
          "state": {
            "_dom_classes": [],
            "_model_module": "@jupyter-widgets/controls",
            "_model_module_version": "1.5.0",
            "_model_name": "FloatProgressModel",
            "_view_count": null,
            "_view_module": "@jupyter-widgets/controls",
            "_view_module_version": "1.5.0",
            "_view_name": "ProgressView",
            "bar_style": "success",
            "description": "",
            "description_tooltip": null,
            "layout": "IPY_MODEL_810a8354dbde4d4da936d2af87179a85",
            "max": 334861,
            "min": 0,
            "orientation": "horizontal",
            "style": "IPY_MODEL_3b30033a9b02464dbaf47025fe3b238d",
            "value": 334861
          }
        },
        "f623f0e0d81045f2bc5cb1b45f9971b1": {
          "model_module": "@jupyter-widgets/base",
          "model_module_version": "1.2.0",
          "model_name": "LayoutModel",
          "state": {
            "_model_module": "@jupyter-widgets/base",
            "_model_module_version": "1.2.0",
            "_model_name": "LayoutModel",
            "_view_count": null,
            "_view_module": "@jupyter-widgets/base",
            "_view_module_version": "1.2.0",
            "_view_name": "LayoutView",
            "align_content": null,
            "align_items": null,
            "align_self": null,
            "border": null,
            "bottom": null,
            "display": null,
            "flex": null,
            "flex_flow": null,
            "grid_area": null,
            "grid_auto_columns": null,
            "grid_auto_flow": null,
            "grid_auto_rows": null,
            "grid_column": null,
            "grid_gap": null,
            "grid_row": null,
            "grid_template_areas": null,
            "grid_template_columns": null,
            "grid_template_rows": null,
            "height": null,
            "justify_content": null,
            "justify_items": null,
            "left": null,
            "margin": null,
            "max_height": null,
            "max_width": null,
            "min_height": null,
            "min_width": null,
            "object_fit": null,
            "object_position": null,
            "order": null,
            "overflow": null,
            "overflow_x": null,
            "overflow_y": null,
            "padding": null,
            "right": null,
            "top": null,
            "visibility": null,
            "width": null
          }
        },
        "ffb0f87226fa43a78e2120b0df0a05aa": {
          "model_module": "@jupyter-widgets/controls",
          "model_module_version": "1.5.0",
          "model_name": "HBoxModel",
          "state": {
            "_dom_classes": [],
            "_model_module": "@jupyter-widgets/controls",
            "_model_module_version": "1.5.0",
            "_model_name": "HBoxModel",
            "_view_count": null,
            "_view_module": "@jupyter-widgets/controls",
            "_view_module_version": "1.5.0",
            "_view_name": "HBoxView",
            "box_style": "",
            "children": [
              "IPY_MODEL_59b6ac1b051448108038a05a6c3d45dc",
              "IPY_MODEL_d257c2c2342e4529bfad4b18dade36e6",
              "IPY_MODEL_c9baca84b47a4595935113a389c42310"
            ],
            "layout": "IPY_MODEL_c08e2fb9770641a6b5f658dd2f3969fa"
          }
        }
      }
    }
  },
  "nbformat": 4,
  "nbformat_minor": 0
}
